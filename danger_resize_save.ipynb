{
 "cells": [
  {
   "cell_type": "code",
   "execution_count": 1,
   "metadata": {},
   "outputs": [],
   "source": [
    "import json\n",
    "import math\n",
    "import os\n",
    "import time\n",
    "from random import seed, random, choices\n",
    "\n",
    "import cv2\n",
    "import matplotlib.pyplot as plt\n",
    "import numpy as np\n",
    "import pandas as pd\n",
    "\n",
    "from PIL import Image\n",
    "\n",
    "%matplotlib inline"
   ]
  },
  {
   "cell_type": "code",
   "execution_count": 39,
   "metadata": {},
   "outputs": [],
   "source": [
    "MACHINE_ASTROPHYSICS = \"Astrophysics\"\n",
    "MACHINE_RAPISCAN = \"Rapiscan\"\n",
    "MACHINE_SMITH = \"Smith\"\n",
    "\n",
    "ASTROPHYSICS_LAYOUT_HEIGHT_BOUNDARY = 1000\n",
    "\n",
    "RAPISCAN_LAYOUT_Y_BOUNDARY = 40\n",
    "RAPISCAN_LAYOUT_HEIGHT_BOUNDARY = 980\n",
    "\n",
    "SMITH_LAYOUT_HEIGHT_BOUNDARY = 920\n",
    "\n",
    "CONTOUR_AREA_BOUNDARY = 4000000"
   ]
  },
  {
   "cell_type": "code",
   "execution_count": 40,
   "metadata": {},
   "outputs": [],
   "source": [
    "def get_path(annotation_path: str) -> tuple:\n",
    "    compressed_data_list = list()\n",
    "    image_path_list = list()\n",
    "    image_label_list = list()\n",
    "    last_image_path_idx = 0\n",
    "    avg_width = 0\n",
    "    avg_height = 0\n",
    "    \n",
    "    # annotation 파일 오픈\n",
    "    with open(annotation_path) as json_file:\n",
    "        entire_data = json.load(json_file)\n",
    "    \n",
    "    image_data_list = entire_data['images']\n",
    "    annotation_data_list = entire_data['annotations']\n",
    "    \n",
    "    # Average height, width 추출\n",
    "    for image_data in image_data_list:\n",
    "        avg_width += image_data['width']\n",
    "        avg_height += image_data['height']\n",
    "    \n",
    "    avg_width = int(avg_width / len(image_data_list))\n",
    "    avg_height = int(avg_height / len(image_data_list))\n",
    "\n",
    "    # image 및 path 정보 추출\n",
    "    for annotation_data in annotation_data_list:\n",
    "        # 처음일 경우 혹은 새로운 image 를 참조하였을 때\n",
    "        if not compressed_data_list or annotation_data['image_id'] != compressed_data_list[-1]['image_id']:\n",
    "            output_data_dict = {\n",
    "                'image_id': annotation_data['image_id'],\n",
    "                'image_path': image_data_list[last_image_path_idx]['path'],\n",
    "                'category_id': set()\n",
    "            }\n",
    "\n",
    "            output_data_dict['category_id'].add(annotation_data['category_id'])\n",
    "            compressed_data_list.append(output_data_dict)\n",
    "            last_image_path_idx += 1\n",
    "        # 기존의 image 를 참조하였을 때\n",
    "        elif annotation_data['image_id'] == compressed_data_list[-1]['image_id']:\n",
    "            compressed_data_list[-1]['category_id'].add(annotation_data['category_id'])\n",
    "\n",
    "    # output data 추출 (image_path, label)\n",
    "    for compressed_data in compressed_data_list:\n",
    "        for category_id in list(compressed_data['category_id']):\n",
    "            image_path_list.append(compressed_data['image_path'])\n",
    "            image_label_list.append(category_id)\n",
    "    \n",
    "    return image_path_list, image_label_list, (avg_width, avg_height)"
   ]
  },
  {
   "cell_type": "code",
   "execution_count": 41,
   "metadata": {},
   "outputs": [],
   "source": [
    "def get_boundary_box(img_data):\n",
    "    img_gray = cv2.cvtColor(img_data, cv2.COLOR_BGR2GRAY)\n",
    "    img_gray = cv2.blur(img_gray, (15,15))\n",
    "\n",
    "    ret, thresh = cv2.threshold(img_gray, math.floor(np.average(img_gray)), 255, cv2.THRESH_BINARY_INV)\n",
    "    dilated = cv2.morphologyEx(thresh, cv2.MORPH_OPEN, cv2.getStructuringElement(cv2.MORPH_ELLIPSE, (10, 10)))\n",
    "    contours, _ = cv2.findContours(dilated, cv2.RETR_LIST, cv2.CHAIN_APPROX_SIMPLE)\n",
    "\n",
    "    new_contours = []\n",
    "\n",
    "    for contour in contours:\n",
    "        if cv2.contourArea(contour) < CONTOUR_AREA_BOUNDARY:\n",
    "            new_contours.append(contour)\n",
    "\n",
    "    boundary_box = [-1, -1, -1, -1]\n",
    "\n",
    "    for contour in new_contours:\n",
    "        x, y, w, h = cv2.boundingRect(contour)\n",
    "\n",
    "        if boundary_box[0] < 0:\n",
    "            boundary_box = [x, y, w, h]\n",
    "        else:\n",
    "            if x < boundary_box[0]:\n",
    "                boundary_box[0] = x\n",
    "            if y < boundary_box[1]:\n",
    "                boundary_box[1] = y\n",
    "            if x + w > boundary_box[2]:\n",
    "                boundary_box[2] = x + w\n",
    "            if y + h > boundary_box[3]:\n",
    "                boundary_box[3] = y + h\n",
    "\n",
    "    return boundary_box"
   ]
  },
  {
   "cell_type": "code",
   "execution_count": 42,
   "metadata": {},
   "outputs": [],
   "source": [
    "def cut_layout(img_data, machine):\n",
    "    if machine == MACHINE_ASTROPHYSICS:\n",
    "        return img_data[:ASTROPHYSICS_LAYOUT_HEIGHT_BOUNDARY, :]\n",
    "    elif machine == MACHINE_RAPISCAN:\n",
    "        return img_data[RAPISCAN_LAYOUT_Y_BOUNDARY:RAPISCAN_LAYOUT_HEIGHT_BOUNDARY, :]\n",
    "    elif machine == MACHINE_SMITH:\n",
    "        return img_data[:SMITH_LAYOUT_HEIGHT_BOUNDARY, :]"
   ]
  },
  {
   "cell_type": "code",
   "execution_count": 43,
   "metadata": {},
   "outputs": [],
   "source": [
    "def save_image(save_dir_path: str, data_path_list: list, resize_img_size: tuple, idx: int):\n",
    "    img_data_list = list()\n",
    "    img_id_list = list()\n",
    "    resize_width = resize_img_size[0]\n",
    "    resize_height = resize_img_size[1]\n",
    "    \n",
    "    data_path = data_path_list[idx]\n",
    "    img_id = data_path.split(\"/\")[-1]\n",
    "    machine = data_path.split(\"/\")[2]\n",
    "\n",
    "    img_data = cv2.imread(data_path)\n",
    "    img_data = cut_layout(img_data, machine)\n",
    "\n",
    "    # Auto cropping\n",
    "#         if machine == MACHINE_ASTROPHYSICS:\n",
    "#             boundary_box = get_boundary_box(img_data)\n",
    "#             img_data = img_data[boundary_box[1]:boundary_box[3], boundary_box[0]:boundary_box[2]]\n",
    "    \n",
    "    # Cut image with average height and width && Save image\n",
    "    img_data = cv2.resize(img_data, dsize=(resize_width, resize_height), interpolation=cv2.INTER_AREA)\n",
    "\n",
    "    # Save image\n",
    "    cv2.imwrite(\"{}/{}\".format(save_dir_path, img_id), img_data);"
   ]
  },
  {
   "cell_type": "code",
   "execution_count": 44,
   "metadata": {},
   "outputs": [],
   "source": [
    "def save_csv(save_path: str, data_path_list: list, label_list: list):\n",
    "    image_id_list = list(map(lambda data_path: data_path.split(\"/\")[-1], data_path_list))\n",
    "    \n",
    "    df = pd.DataFrame(list(zip(image_id_list, label_list)), columns=['ImageFileName', 'Label'])\n",
    "    \n",
    "    df.to_csv(save_path, index=False)"
   ]
  },
  {
   "cell_type": "markdown",
   "metadata": {},
   "source": [
    "### Save Images"
   ]
  },
  {
   "cell_type": "code",
   "execution_count": 45,
   "metadata": {},
   "outputs": [],
   "source": [
    "def save(annotation_path: str, machine: str, divide_prop: float=0.125):\n",
    "    # Load data\n",
    "    image_path_list, label_list, (avg_width, avg_height) = get_path(annotation_path)\n",
    "    image_path_set_list = list(set(image_path_list))\n",
    "    new_image_path_list = list(map(lambda image_path: \".\" + image_path, image_path_list))\n",
    "    new_image_path_set_list = list(map(lambda image_path: \".\" + image_path, image_path_set_list))\n",
    "    resize_width = 0\n",
    "    resize_height = 0\n",
    "    \n",
    "    # 이미지 평균 width, height 에서 layout 부분을 제외\n",
    "    if machine == MACHINE_ASTROPHYSICS:\n",
    "        resize_height = ASTROPHYSICS_LAYOUT_HEIGHT_BOUNDARY \n",
    "    elif machine == MACHINE_RAPISCAN:\n",
    "        resize_height = RAPISCAN_LAYOUT_HEIGHT_BOUNDARY - RAPISCAN_LAYOUT_Y_BOUNDARY\n",
    "    elif machine == MACHINE_SMITH:\n",
    "        resize_height = SMITH_LAYOUT_HEIGHT_BOUNDARY\n",
    "    \n",
    "    resize_width = int(avg_width * divide_prop)\n",
    "    resize_height = int(resize_height * divide_prop)\n",
    "    \n",
    "    # Path to be created\n",
    "    target = \"dataset_{}_{}_{}/img_folder\".format(machine, resize_width, resize_height)\n",
    "    csv_save_path = 'dataset_{}_{}_{}/data_label_info.csv'.format(machine, resize_width, resize_height)\n",
    "    num_workers = 1\n",
    "    \n",
    "    # 현재 directory에서 resize한 데이터셋 만듬\n",
    "    cur_path = os.getcwd()\n",
    "    target_path = os.path.join(cur_path, target)\n",
    "    csv_save_path = os.path.join(cur_path, csv_save_path)\n",
    "    \n",
    "    print(\"Resize Width : {}, Resize Height : {}\".format(resize_width, resize_height))\n",
    "    print(\"Image directory path : {}\".format(target_path))\n",
    "    print(\".csv file path : {}\".format(csv_save_path))\n",
    "    \n",
    "    # Make Directory\n",
    "    try:\n",
    "        os.makedirs(target_path, exist_ok=True)\n",
    "        #os.mkdir(csv_save_path)\n",
    "    except OSError as e:\n",
    "        print(e)\n",
    "        if e.errno != os.errno.EEXIST:\n",
    "            print(e)\n",
    "            raise\n",
    "    \n",
    "    # Save images\n",
    "    for i in range(len(new_image_path_set_list)):\n",
    "        save_image(target_path, new_image_path_set_list, (resize_width, resize_height), i)\n",
    "    print(\"Complete to save images\")\n",
    "    \n",
    "    # Save .csv file\n",
    "    save_csv(csv_save_path, new_image_path_list, label_list)\n",
    "    print(\"Complete to save .csv file\")"
   ]
  },
  {
   "cell_type": "code",
   "execution_count": 46,
   "metadata": {},
   "outputs": [
    {
     "name": "stdout",
     "output_type": "stream",
     "text": [
      "Resize Width : 240, Resize Height : 125\n",
      "Image directory path : /root/local_vol/bk/dataset_Astrophysics_240_125/img_folder\n",
      ".csv file path : /root/local_vol/bk/dataset_Astrophysics_240_125/data_label_info.csv\n",
      "Complete to save images\n",
      "Complete to save .csv file\n",
      "Elapsed Time : 2.662433624267578\n"
     ]
    }
   ],
   "source": [
    "start = time.time()\n",
    "\n",
    "save(\n",
    "    annotation_path=\"./datasets/Annotation/Astrophysics.json\",\n",
    "    machine=MACHINE_ASTROPHYSICS\n",
    ")\n",
    "\n",
    "end = time.time()\n",
    "\n",
    "print(\"Elapsed Time : {}\".format(end - start))"
   ]
  },
  {
   "cell_type": "code",
   "execution_count": 47,
   "metadata": {},
   "outputs": [
    {
     "name": "stdout",
     "output_type": "stream",
     "text": [
      "Resize Width : 210, Resize Height : 117\n",
      "Image directory path : /root/local_vol/bk/dataset_Rapiscan_210_117/img_folder\n",
      ".csv file path : /root/local_vol/bk/dataset_Rapiscan_210_117/data_label_info.csv\n",
      "Complete to save images\n",
      "Complete to save .csv file\n",
      "Elapsed Time : 4.385071516036987\n"
     ]
    }
   ],
   "source": [
    "start = time.time()\n",
    "save(\n",
    "    annotation_path=\"./datasets/Annotation/Rapiscan.json\",\n",
    "    machine=MACHINE_RAPISCAN\n",
    ")\n",
    "end = time.time()\n",
    "\n",
    "print(\"Elapsed Time : {}\".format(end - start))"
   ]
  },
  {
   "cell_type": "code",
   "execution_count": 48,
   "metadata": {},
   "outputs": [
    {
     "name": "stdout",
     "output_type": "stream",
     "text": [
      "Resize Width : 210, Resize Height : 115\n",
      "Image directory path : /root/local_vol/bk/dataset_Smith_210_115/img_folder\n",
      ".csv file path : /root/local_vol/bk/dataset_Smith_210_115/data_label_info.csv\n",
      "Complete to save images\n",
      "Complete to save .csv file\n",
      "Elapsed Time : 2.727540969848633\n"
     ]
    }
   ],
   "source": [
    "start = time.time()\n",
    "save(\n",
    "    annotation_path=\"./datasets/Annotation/Smith.json\",\n",
    "    machine=MACHINE_SMITH\n",
    ")\n",
    "end = time.time()\n",
    "\n",
    "print(\"Elapsed Time : {}\".format(end - start))"
   ]
  }
 ],
 "metadata": {
  "kernelspec": {
   "display_name": "Python 3",
   "language": "python",
   "name": "python3"
  },
  "language_info": {
   "codemirror_mode": {
    "name": "ipython",
    "version": 3
   },
   "file_extension": ".py",
   "mimetype": "text/x-python",
   "name": "python",
   "nbconvert_exporter": "python",
   "pygments_lexer": "ipython3",
   "version": "3.6.8"
  }
 },
 "nbformat": 4,
 "nbformat_minor": 2
}
