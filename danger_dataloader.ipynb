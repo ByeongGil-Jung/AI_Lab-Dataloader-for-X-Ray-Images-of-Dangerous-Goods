{
 "cells": [
  {
   "cell_type": "code",
   "execution_count": 1,
   "metadata": {},
   "outputs": [],
   "source": [
    "import json\n",
    "import math\n",
    "import multiprocessing\n",
    "\n",
    "import cv2\n",
    "import torch\n",
    "import matplotlib.pyplot as plt\n",
    "import numpy as np\n",
    "\n",
    "from PIL import Image\n",
    "from sklearn.model_selection import StratifiedShuffleSplit\n",
    "from torch.utils.data import Dataset, DataLoader, Sampler\n",
    "from torchvision import datasets, transforms\n",
    "\n",
    "%matplotlib inline"
   ]
  },
  {
   "cell_type": "code",
   "execution_count": 2,
   "metadata": {},
   "outputs": [
    {
     "data": {
      "text/plain": [
       "40"
      ]
     },
     "execution_count": 2,
     "metadata": {},
     "output_type": "execute_result"
    }
   ],
   "source": [
    "pool = multiprocessing.Pool()\n",
    "pool._processes"
   ]
  },
  {
   "cell_type": "code",
   "execution_count": 3,
   "metadata": {},
   "outputs": [],
   "source": [
    "LAYOUT_PIXEL_BOUNDARY = 1000\n",
    "CONTOUR_AREA_BOUNDARY = 4000000"
   ]
  },
  {
   "cell_type": "code",
   "execution_count": 4,
   "metadata": {},
   "outputs": [],
   "source": [
    "class DangerDataset(Dataset):\n",
    "    def __init__(self, data_path_list: list, label_list: list, img_size: tuple):\n",
    "        self.data_path_list = data_path_list\n",
    "        self.label_list = label_list\n",
    "        self.img_size = img_size\n",
    "        self.transform = transforms.Compose([\n",
    "            transforms.Resize((self.img_size[0], self.img_size[1])),\n",
    "            transforms.ToTensor()\n",
    "        ])\n",
    "    \n",
    "    def __getitem__(self, idx: int) -> tuple:\n",
    "        data_path = self.data_path_list[idx]\n",
    "        img_data = cv2.imread(data_path)\n",
    "        boundary_box = self._get_boundary_box(img_data)\n",
    "        img_data = cv2.cvtColor(img_data, cv2.COLOR_BGR2RGB)\n",
    "        pil_img_data = Image.fromarray(img_data)\n",
    "        cropped_img_data = pil_img_data.crop(boundary_box)\n",
    "        transformed_img = self.transform(cropped_img_data)\n",
    "        label = self.label_list[idx]\n",
    "        \n",
    "        pil_img_data.close()\n",
    "        \n",
    "        return transformed_img, label\n",
    "\n",
    "    def __len__(self) -> int:\n",
    "        return len(self.data_path_list)\n",
    "    \n",
    "    \"\"\"\n",
    "    https://stackoverflow.com/questions/37803903/opencv-and-python-for-auto-cropping\n",
    "    \"\"\"\n",
    "    def _get_boundary_box(self, img_data):\n",
    "        img_data = img_data[:LAYOUT_PIXEL_BOUNDARY, :]\n",
    "        \n",
    "        img_gray = cv2.cvtColor(img_data, cv2.COLOR_BGR2GRAY)\n",
    "        img_gray = cv2.blur(img_gray, (15,15))\n",
    "\n",
    "        ret, thresh = cv2.threshold(img_gray, math.floor(np.average(img_gray)), 255, cv2.THRESH_BINARY_INV)\n",
    "        dilated = cv2.morphologyEx(thresh, cv2.MORPH_OPEN, cv2.getStructuringElement(cv2.MORPH_ELLIPSE, (10, 10)))\n",
    "        contours, _ = cv2.findContours(dilated, cv2.RETR_LIST, cv2.CHAIN_APPROX_SIMPLE)\n",
    "\n",
    "        new_contours = []\n",
    "\n",
    "        for contour in contours:\n",
    "            if cv2.contourArea(contour) < CONTOUR_AREA_BOUNDARY:\n",
    "                new_contours.append(contour)\n",
    "\n",
    "        boundary_box = [-1, -1, -1, -1]\n",
    "\n",
    "        for contour in new_contours:\n",
    "            x, y, w, h = cv2.boundingRect(contour)\n",
    "\n",
    "            if boundary_box[0] < 0:\n",
    "                boundary_box = [x, y, w, h]\n",
    "            else:\n",
    "                if x < boundary_box[0]:\n",
    "                    boundary_box[0] = x\n",
    "                if y < boundary_box[1]:\n",
    "                    boundary_box[1] = y\n",
    "                if x + w > boundary_box[2]:\n",
    "                    boundary_box[2] = x + w\n",
    "                if y + h > boundary_box[3]:\n",
    "                    boundary_box[3] = y + h\n",
    "        \n",
    "        return boundary_box"
   ]
  },
  {
   "cell_type": "code",
   "execution_count": 5,
   "metadata": {},
   "outputs": [],
   "source": [
    "# image_type: 'Multiple_Categories', 'Multiple_Other', 'Single_Default', 'Single_Other'\n",
    "def get_path(annotation_path: str, image_type: str=\"\", duplicate_check: bool=True) -> tuple:\n",
    "    entire_data = None\n",
    "    image_path_list = list()\n",
    "    label_list = list()\n",
    "    image_metadata_list = list()\n",
    "    category_dict = dict()\n",
    "    \n",
    "    with open(annotation_path) as json_file:\n",
    "        entire_data = json.load(json_file)\n",
    "    \n",
    "    image_data_list = entire_data['images']\n",
    "    category_data_list = entire_data['categories']\n",
    "    annotation_data_list = entire_data['annotations']\n",
    "    \n",
    "    # 이미지 경로 파싱 && label 파싱 && 메타데이터 파싱\n",
    "    for image_data_dict in image_data_list:\n",
    "        split_path_list = image_data_dict['path'].split('/')\n",
    "        curr_image_type = split_path_list[-2]\n",
    "        \n",
    "        # 만약 해당 image_type 이 아니면 다음 index 로\n",
    "        if image_type != \"\" and curr_image_type != image_type:\n",
    "            continue\n",
    "            \n",
    "        image_metadata = {\n",
    "            'path': image_data_dict['path'],\n",
    "            'image_id': image_data_dict['id'],\n",
    "            'image_type': curr_image_type,\n",
    "            'object_metadata_list': list()\n",
    "        }\n",
    "        \n",
    "        image_metadata_list.append(image_metadata)\n",
    "\n",
    "    # 이미지 id 로 metadata 파싱\n",
    "    current_annotation_idx = 0\n",
    "    count_annotation_idx = 0\n",
    "    length_annotation_data_list = len(annotation_data_list)\n",
    "    \n",
    "    for image_metadata in image_metadata_list:\n",
    "        current_metadata_list = list()\n",
    "        current_annotation_idx += count_annotation_idx\n",
    "        count_annotation_idx = 0\n",
    "        \n",
    "        for annotation_data in annotation_data_list[current_annotation_idx:length_annotation_data_list]:\n",
    "            \n",
    "            if image_metadata['image_id'] == annotation_data['image_id']:\n",
    "                category = category_data_list[annotation_data['category_id'] - 2]['name']  # 이거 이상함 !!!!!! -2 해야 됨 (-1이 아니라)\n",
    "\n",
    "                object_metadata = {\n",
    "                    'category': category,\n",
    "                    'segmentation': annotation_data['segmentation'],\n",
    "                    'area': annotation_data['area'],\n",
    "                    'bbox': annotation_data['bbox'],\n",
    "                    'is_crowd': annotation_data['iscrowd'],\n",
    "                    'color': annotation_data['color'],\n",
    "                    'metadata': annotation_data['metadata']\n",
    "                }\n",
    "\n",
    "                current_metadata_list.append(object_metadata)\n",
    "                count_annotation_idx += 1\n",
    "            else:\n",
    "                continue\n",
    "                \n",
    "        image_metadata['object_metadata_list'] = current_metadata_list\n",
    "        \n",
    "    # image_path 및 label 추출\n",
    "    # 중복 무시\n",
    "    if duplicate_check == False:\n",
    "        for image_metadata in image_metadata_list:\n",
    "            for object_metadata in image_metadata['object_metadata_list']:\n",
    "                image_path_list.append(image_metadata['path'])\n",
    "                label_list.append(object_metadata['category'])\n",
    "    # 중복 제거\n",
    "    else:\n",
    "        for image_metadata in image_metadata_list:\n",
    "            category_set = set()\n",
    "            \n",
    "            for object_metadata in image_metadata['object_metadata_list']:\n",
    "                if object_metadata['category'] in category_set:\n",
    "                    continue\n",
    "                else:\n",
    "                    category_set.add(object_metadata['category'])\n",
    "                    image_path_list.append(image_metadata['path'])\n",
    "                    label_list.append(object_metadata['category'])\n",
    "    \n",
    "    # category 매핑 데이터 생성\n",
    "    for category_data_dict in category_data_list:\n",
    "        category_dict[category_data_dict['name']] = category_data_dict['id']\n",
    "                    \n",
    "    return image_path_list, label_list, category_dict, image_metadata_list"
   ]
  },
  {
   "cell_type": "code",
   "execution_count": 6,
   "metadata": {},
   "outputs": [],
   "source": [
    "\"\"\"\n",
    "https://github.com/ncullen93/torchsample/blob/master/torchsample/samplers.py#L22\n",
    "\"\"\"\n",
    "class StratifiedSampler(Sampler):\n",
    "    \"\"\"Stratified Sampling\n",
    "    Provides equal representation of target classes in each batch\n",
    "    \"\"\"\n",
    "    def __init__(self, class_vector, batch_size):\n",
    "        \"\"\"\n",
    "        Arguments\n",
    "        ---------\n",
    "        class_vector : torch tensor\n",
    "            a vector of class labels\n",
    "        batch_size : integer\n",
    "            batch_size\n",
    "        \"\"\"\n",
    "        self.n_splits = int(class_vector.size(0) / batch_size)\n",
    "        self.class_vector = class_vector\n",
    "\n",
    "    def gen_sample_array(self):\n",
    "        s = StratifiedShuffleSplit(n_splits=self.n_splits, test_size=0.5)\n",
    "        X = torch.randn(self.class_vector.size(0),2).numpy()\n",
    "        y = self.class_vector.numpy()\n",
    "        s.get_n_splits(X, y)\n",
    "\n",
    "        train_index, test_index = next(s.split(X, y))\n",
    "        return np.hstack([train_index, test_index])\n",
    "\n",
    "    def __iter__(self):\n",
    "        return iter(self.gen_sample_array())\n",
    "\n",
    "    def __len__(self):\n",
    "        return len(self.class_vector)"
   ]
  },
  {
   "cell_type": "code",
   "execution_count": 7,
   "metadata": {},
   "outputs": [],
   "source": [
    "def preprocessing_data(data_path_list: list, label_list: list, category_dict: dict) -> tuple:\n",
    "    preprocessed_data_path_list = list()\n",
    "    preprocessed_label_list = list()\n",
    "    class_vector_label_list = list()\n",
    "    del_label_list = list()\n",
    "    label_count_dict = {key: 0 for key in category_dict.keys()}\n",
    "\n",
    "    # 각 class 의 데이터 갯수 셈\n",
    "    for label in label_list:\n",
    "        label_count_dict[label] += 1\n",
    "    \n",
    "    # 갯수가 2개 이하인 class 는 Stratified Sampling 을 할 수 없으므로 제외\n",
    "    for label, count in label_count_dict.items():\n",
    "        if count < 2:\n",
    "            del_label_list.append(label)\n",
    "    \n",
    "    # 새로운 데이터 생성\n",
    "    for path, label in list(zip(data_path_list, label_list)):\n",
    "        if label not in del_label_list:\n",
    "            preprocessed_data_path_list.append(path)\n",
    "            preprocessed_label_list.append(label)\n",
    "    \n",
    "    # label 을 vector 화\n",
    "    for preprocessed_label in preprocessed_label_list:\n",
    "        class_vector_label_list.append(category_dict[preprocessed_label])\n",
    "    \n",
    "    return np.asarray(preprocessed_data_path_list), np.asarray(preprocessed_label_list), np.asarray(class_vector_label_list)"
   ]
  },
  {
   "cell_type": "code",
   "execution_count": 8,
   "metadata": {
    "scrolled": true
   },
   "outputs": [],
   "source": [
    "# load_mscoco(image_path_list, label_list, batch_size=100, size=(256, 256))\n",
    "def load_danger(data_path_list: list, label_list: list, category_dict: dict, batch_size: int, img_size: tuple, num_workers: int) -> tuple:\n",
    "    preprocessed_data_path_list, preprocessed_label_list, class_vector_label_list = preprocessing_data(data_path_list, label_list, category_dict)\n",
    "    class_vector = torch.from_numpy(class_vector_label_list)\n",
    "    sampler = StratifiedSampler(class_vector=class_vector, batch_size=batch_size)\n",
    "    \n",
    "    danger_data = DangerDataset(preprocessed_data_path_list, preprocessed_label_list, img_size)\n",
    "    \n",
    "    danger_loader = DataLoader(\n",
    "        danger_data,\n",
    "        batch_size=batch_size,\n",
    "        sampler=sampler,\n",
    "        shuffle=False,\n",
    "        num_workers=num_workers\n",
    "    )\n",
    "    data, label = iter(danger_loader).next()\n",
    "    \n",
    "    return data.numpy().reshape(batch_size, -1), np.asarray(label)"
   ]
  },
  {
   "cell_type": "code",
   "execution_count": 9,
   "metadata": {},
   "outputs": [],
   "source": [
    "# image_path_list, label_list, image_metadata_list = get_path(\"./datasets/Annotation/Astrophysics.json\", 'Multiple_Categories')\n",
    "image_path_list, label_list, category_dict, image_metadata_list = get_path(\"./datasets/Annotation/Astrophysics.json\")"
   ]
  },
  {
   "cell_type": "code",
   "execution_count": 10,
   "metadata": {},
   "outputs": [],
   "source": [
    "new_image_path_list = list(map(lambda image_path: \".\" + image_path, image_path_list))"
   ]
  },
  {
   "cell_type": "code",
   "execution_count": 11,
   "metadata": {},
   "outputs": [],
   "source": [
    "data, label = load_danger(\n",
    "    new_image_path_list,\n",
    "    label_list,\n",
    "    category_dict,\n",
    "    batch_size=512,\n",
    "    img_size=(256, 256),\n",
    "    num_workers=10\n",
    ")"
   ]
  },
  {
   "cell_type": "markdown",
   "metadata": {},
   "source": [
    "## Verification"
   ]
  },
  {
   "cell_type": "markdown",
   "metadata": {},
   "source": [
    "#### Original Data"
   ]
  },
  {
   "cell_type": "code",
   "execution_count": 266,
   "metadata": {},
   "outputs": [],
   "source": [
    "label_count_dict = {'Aerosol': 0, 'Alcohol': 0, 'Awl': 0, 'Axe': 0, 'Bat': 813, 'Battery': 1, 'Bullet': 0, 'Firecracker': 0, 'Gun': 0, 'GunParts': 0, 'Hammer': 0, 'HandCuffs': 2218, 'HDD': 0, 'Knife': 2810, 'Laptop': 4008, 'Lighter': 3384, 'Liquid': 0, 'Match': 0, 'MetalPipe': 0, 'NailClippers': 0, 'PrtableGas': 0, 'Saw': 0, 'Scissors': 1724, 'Screwdriver': 583, 'SmartPhone': 5286, 'SolidFuel': 0, 'Spanner': 852, 'SSD': 1958, 'SupplymentaryBattery': 1727, 'TabletPC': 1630, 'Thinner': 1, 'USB': 4759, 'ZippoOil': 0}"
   ]
  },
  {
   "cell_type": "code",
   "execution_count": 267,
   "metadata": {},
   "outputs": [
    {
     "data": {
      "image/png": "[encoded data removed]",
      "text/plain": [
       "<Figure size 1080x576 with 1 Axes>"
      ]
     },
     "metadata": {
      "needs_background": "light"
     },
     "output_type": "display_data"
    }
   ],
   "source": [
    "fig, ax = plt.subplots(\n",
    "    figsize=(15, 8)\n",
    ")\n",
    "fig.autofmt_xdate()\n",
    "plt.bar(label_count_dict.keys(), label_count_dict.values())\n",
    "\n",
    "plt.tight_layout()\n",
    "plt.show()"
   ]
  },
  {
   "cell_type": "markdown",
   "metadata": {},
   "source": [
    "#### Dataloader Data"
   ]
  },
  {
   "cell_type": "code",
   "execution_count": 264,
   "metadata": {},
   "outputs": [],
   "source": [
    "label_set = list(set(label))\n",
    "new_label_count_dict = {label: 0 for label in label_set}\n",
    "\n",
    "for label_value in label:\n",
    "    new_label_count_dict[label_value] += 1"
   ]
  },
  {
   "cell_type": "code",
   "execution_count": 265,
   "metadata": {},
   "outputs": [
    {
     "data": {
      "image/png": "[encoded data removed]",
      "text/plain": [
       "<Figure size 1080x576 with 1 Axes>"
      ]
     },
     "metadata": {
      "needs_background": "light"
     },
     "output_type": "display_data"
    }
   ],
   "source": [
    "fig, ax = plt.subplots(\n",
    "    figsize=(15, 8)\n",
    ")\n",
    "fig.autofmt_xdate()\n",
    "plt.bar(new_label_count_dict.keys(), new_label_count_dict.values())\n",
    "\n",
    "plt.tight_layout()\n",
    "plt.show()"
   ]
  },
  {
   "cell_type": "code",
   "execution_count": null,
   "metadata": {},
   "outputs": [],
   "source": []
  }
 ],
 "metadata": {
  "kernelspec": {
   "display_name": "Python 3",
   "language": "python",
   "name": "python3"
  },
  "language_info": {
   "codemirror_mode": {
    "name": "ipython",
    "version": 3
   },
   "file_extension": ".py",
   "mimetype": "text/x-python",
   "name": "python",
   "nbconvert_exporter": "python",
   "pygments_lexer": "ipython3",
   "version": "3.6.8"
  }
 },
 "nbformat": 4,
 "nbformat_minor": 2
}
